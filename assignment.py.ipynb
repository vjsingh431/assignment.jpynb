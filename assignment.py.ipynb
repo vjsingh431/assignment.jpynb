{
 "cells": [
  {
   "cell_type": "code",
   "execution_count": 2,
   "id": "6049e177-a549-4cdb-b457-24b5af336022",
   "metadata": {},
   "outputs": [],
   "source": [
    "# Q1. What is Statistics?\n",
    "\n",
    "# Ans -Statistics is the study of the collection, analysis, interpretation, presentation, and organization of data."
   ]
  },
  {
   "cell_type": "markdown",
   "id": "bee2b61c-3690-43bd-a40f-1a0f2aecc4ce",
   "metadata": {},
   "source": [
    "# # Q2. What are the different types of data and how do they differ from each other? Provide an example of\n",
    "# each type of data.\n",
    "# Ans - Data are two type \n",
    "# 1- Qualitative\n",
    "# 2-Quantitative\n",
    "# Quantitative data\n",
    "# Data is depicted in numerical terms. \n",
    "# Can be shown in numbers and variables like ratio, percentage, and more.\n",
    "# Example: 100%, 1:3, 123\n",
    "# Qualitative data\n",
    "# Data is not depicted in numerical terms. \n",
    "# Could be about the behavioral attributes of a person, or thing. \n",
    "# Examples: loud behavior, fair skin, soft quality, and more."
   ]
  },
  {
   "cell_type": "raw",
   "id": "88905b2b-fe4b-426e-bc1d-b0b7b52bf1c4",
   "metadata": {},
   "source": [
    "#Q3. What are the different types of data and how do they differ from each other? Provide an example of\n",
    "     each type of data.\n",
    "Ans- The data in statistics is classified into four categories:\n",
    "\n",
    "Nominal data\n",
    "Ordinal data\n",
    "Discrete data\n",
    "Continuous data\n",
    "\n",
    "Quantitative Data (Numerical Data)\n",
    "Quantitavive Data is the type of the data that represents the numerical value of the data. They are also called the Numerical Data. This data type is used to represent the height, weight, length and other things of the data.\n",
    "Quantitative data is further classified into two categories that are,\n",
    "\n",
    "Discrete Data-these data types have values that can be easily counted as whole numbers. Example Height of Students in a class\n",
    "Marks of the students in a class test.\n",
    "Continuous Data-The variable in the data set can have any value between the range of the data set.Example Temperature Range\n",
    "Qualitative Data\n",
    "Nominal Data-Nominal data is a type of data that consists of categories or names that cannot be ordered or ranked.Examples of nominal data include gender (Male or female), race (White, Black, Asian), religion (Hinuduism, Christianity, Islam, Judaism), and blood type (A, B, AB, O).\n",
    "Ordinal Data-Ordinal data is a type of data that consists of categories that can be ordered or ranked.Examples of ordinal data include education level (Elementary, Middle, High School, College), job position (Manager, Supervisor, Employee), etc.\n",
    "\n"
   ]
  },
  {
   "cell_type": "raw",
   "id": "c2aa20e3-74f9-40f6-ac70-69a902b44edf",
   "metadata": {},
   "source": [
    "#Q4. Categorise the following datasets with respect to quantitative and qualitative data types:\n",
    "(i) Grading in exam: A+, A, B+, B, C+, C, D, E - Qualitative (Nominal)\n",
    "(ii) Colour of mangoes: yellow, green, orange, red-Qualitaive\n",
    "(iii) Height data of a class: [178.9, 179, 179.5, 176, 177.2, 178.3, 175.8,...]-Quantitative(continues)\n",
    "(iv) Number of mangoes exported by a farm: [500, 600, 478, 672, ...]- Quantitative (discrete)"
   ]
  },
  {
   "cell_type": "raw",
   "id": "f7e1f676-01b6-476d-ac54-acf97faed49e",
   "metadata": {},
   "source": [
    "#Q5. Explain the concept of levels of measurement and give an example of a variable for each level.\n",
    "Ans - level of measurement is used to describe information within the values.our levels of measurement: nominal, ordinal, interval, and ratio.\n",
    "    Nominal Scale\n",
    "A nominal scale is the 1st level of measurement scale in which the numbers serve as “tags” or “labels” to classify or identify the objects.Example gender \n",
    "    Ordinal Scale\n",
    "The ordinal scale is the 2nd level of measurement that reports the ordering and ranking of data without establishing the degree of variation between them.Example-Ranking of school students – 1st, 2nd, 3rd, etc.\n",
    "Ratings in restaurants\n",
    "    Interval Scale\n",
    "The interval scale is the 3rd level of measurement scale. It is defined as a quantitative measurement scale in which the difference between the two variables is meaningful.Example-Likert Scale\n",
    "Net Promoter Score (NPS)\n",
    "Bipolar Matrix Table\n",
    "    Ratio Scale\n",
    "get_ipython().set_next_input('The ratio scale is the 4th level of measurement scale, which is quantitative. It is a type of variable measurement scale. It allows researchers to compare the differences or intervals. What is your weight in Kgs');get_ipython().run_line_magic('pinfo', 'Kgs')\n",
    "\n",
    "Less than 55 kgs\n",
    "55 – 75 kgs\n",
    "76 – 85 kgs\n",
    "86 – 95 kgs\n",
    "More than 95 kgs\n"
   ]
  },
  {
   "cell_type": "raw",
   "id": "dba36d2e-abef-468c-84ba-2a2b91b583d4",
   "metadata": {},
   "source": [
    "#Q6. Why is it important to understand the level of measurement when analyzing data? Provide an\n",
    "example to illustrate your answer.\n",
    "\n",
    "The nominal, ordinal, interval & ratio levels of measurement are scales that allow us to measure and classify gathered data in well-defined variables to be used for different purposes. \n",
    "\n",
    "Mainly used for these four scales are:\n",
    "\n",
    "Nominal: Used to categorize data into mutually exclusive categories or groups.Nominal Scale Examples\n",
    "Gender\n",
    "Political preferences\n",
    "Place of residence\n",
    "Ordinal: Used to measure variables in a natural order, such as rating or ranking. They provide meaningful insights into attitudes, preferences, and behaviors by understanding the order of responses.For example, a semantic differential scale question such as:\n",
    "\n",
    "get_ipython().set_next_input('How satisfied are you with our services');get_ipython().run_line_magic('pinfo', 'services')\n",
    "\n",
    "Very Unsatisfied – 1\n",
    "Unsatisfied – 2\n",
    "Neutral – 3\n",
    "Satisfied – 4\n",
    "Very Satisfied – 5\n",
    "Interval: Used to measure variables with equal intervals between values. Temperature and time often make use of this type of measurement, enabling precise comparisons and calculations.here are situations where attitude scales are considered to be interval scales.\n",
    "Apart from the temperature scale, time is also a very common example of an interval scale, as the values are already established, constant, and measurable.\n",
    "Ratio: Allows for comparisons and computations such as ratios, percentages, and averages. Great for research in fields like science, engineering, and finance, where you need to use ratios, percentages, and averages to understand the data.Ratio Scale Examples\n",
    "The following questions fall under the Ratio Scale category:\n",
    "\n",
    "get_ipython().set_next_input('What is your daughter’s current height');get_ipython().run_line_magic('pinfo', 'height')\n",
    "Less than 5 feet.\n",
    "5 feet 1 inch – 5 feet 5 inches\n",
    "5 feet 6 inches- 6 feet\n",
    "More than 6 feet\n",
    "get_ipython().set_next_input('What is your weight in kilograms');get_ipython().run_line_magic('pinfo', 'kilograms')\n",
    "Less than 50 kilograms\n",
    "51- 70 kilograms\n",
    "71- 90 kilograms\n",
    "91-110 kilograms\n",
    "More than 110 kilograms"
   ]
  },
  {
   "cell_type": "raw",
   "id": "3a9c1476-404e-4bb6-a76e-e5033d4e0203",
   "metadata": {},
   "source": [
    "#Q7. How nominal data type is different from ordinal data type.\n",
    "Ans - Nominal Data\n",
    "1) he variables of this scale are differentiated by their nomenclature and none other factors.\n",
    "   There is no implied sequence in which variables exist in nominal scale.\n",
    "2) There is no quantitative value associated with variables on this scale. Instead, it is a qualitative measurement scale.\n",
    "3) These variables cannot be ordered.\n",
    "   The variables of this scale are distinct.\n",
    "   Nominal data is not quantifiable.\n",
    "  Ordinal type\n",
    "1)  These variables have a naturally occurring order present between them yet the difference between variables is unknown.\n",
    "    The value of difference between two variables on this scale cannot be calculated. For instance, the order of size is small, medium, large, extra large. But Small – Medium ≠ Large – Extra Large.\n",
    " 2) Quantitative values are linked to ordinal variables but arithmetic evaluation cannot be conducted on these variables.\n",
    " 3) Quantitative values are linked to ordinal variables but arithmetic evaluation cannot be conducted on these variables."
   ]
  },
  {
   "cell_type": "raw",
   "id": "1adef004-a67d-4734-aab7-12bc3e7c2318",
   "metadata": {},
   "source": [
    "#Q8. Which type of plot can be used to display data in terms of range?\n",
    "Ans- Boxplots display data ranges for groups within a dataset. In boxplots, it equals the entire length of the whiskers for each group. The minimum and maximum values appear at the ends of the whiskers except when there are outliers."
   ]
  },
  {
   "cell_type": "raw",
   "id": "e3aa23dc-cd49-4f00-b60b-93649ae42085",
   "metadata": {},
   "source": [
    "#Q9. Describe the difference between descriptive and inferential statistics. Give an example of each\n",
    "type of statistics and explain how they are used.\n",
    "Ans-1. Descriptive Statistics: Descriptive statistics is a term given to the analysis of data that helps to describe, show and summarize data in a meaningful way.\n",
    "       It explains already known data and is limited to a sample or population having a small size.\n",
    "       It can be achieved with the help of charts, graphs, tables, etc.\n",
    "2. Inferential Statistics: In inferential statistics, predictions are made by taking any group of data in which you are interested. It can be defined as a random sample of data taken from a population to describe and make inferences about the population.\n",
    "                            It attempts to reach the conclusion about the population.\n",
    "                            It attempts to reach the conclusion about the population."
   ]
  },
  {
   "cell_type": "code",
   "execution_count": null,
   "id": "62ccc726-51b6-4119-ae6e-e1f057ddced6",
   "metadata": {},
   "outputs": [],
   "source": [
    "#Q10. What are some common measures of central tendency and variability used in statistics? Explain how each measure can be used to describe a dataset.\n",
    "Ans- Definition\n",
    "The central tendency is stated as the statistical measure that represents the single value of the entire distribution or a dataset. It aims to provide an accurate description of the entire data in the distribution.\n",
    "\n",
    "Measures of Central Tendency\n",
    "The central tendency of the dataset can be found out using the three important measures namely mean, median and mode.\n",
    "Mean\n",
    "The MEAN represents the average value of the dataset. It can be calculated as the sum of all the values in the dataset divided by the number of values. In general, it is considered as the arithmetic mean. Some other measures of mean used to find the central tendency are as follows:\n",
    "\n",
    "Geometric Mean\n",
    "Harmonic Mean\n",
    "Weighted Mean\n",
    "Median\n",
    "Median is the middle value of the dataset in which the dataset is arranged in the ascending order or in descending order. When the dataset contains an even number of values, then the median value of the dataset can be found by taking the mean of the middle two values.\n",
    "Mode\n",
    "The mode represents the frequently occurring value in the dataset. Sometimes the dataset may contain multiple modes and in some cases, it does not contain any mode at all.\n",
    "\n",
    "Consider the given dataset 5, 4, 2, 3, 2, 1, 5, 4, 5"
   ]
  }
 ],
 "metadata": {
  "kernelspec": {
   "display_name": "Python 3 (ipykernel)",
   "language": "python",
   "name": "python3"
  },
  "language_info": {
   "codemirror_mode": {
    "name": "ipython",
    "version": 3
   },
   "file_extension": ".py",
   "mimetype": "text/x-python",
   "name": "python",
   "nbconvert_exporter": "python",
   "pygments_lexer": "ipython3",
   "version": "3.10.8"
  }
 },
 "nbformat": 4,
 "nbformat_minor": 5
}
